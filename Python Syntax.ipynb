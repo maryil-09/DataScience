{
 "cells": [
  {
   "cell_type": "code",
   "execution_count": 1,
   "id": "b32b70c1-f3e9-478b-9540-4a8f6d5f9e1f",
   "metadata": {},
   "outputs": [
    {
     "name": "stdout",
     "output_type": "stream",
     "text": [
      "Hello, World\n"
     ]
    }
   ],
   "source": [
    "print('Hello, World')"
   ]
  },
  {
   "cell_type": "code",
   "execution_count": 5,
   "id": "90464449-21c5-4dc3-aac4-e1b36fc63b92",
   "metadata": {},
   "outputs": [
    {
     "name": "stdout",
     "output_type": "stream",
     "text": [
      "3<5\n"
     ]
    }
   ],
   "source": [
    "if 5>6:\n",
    "    print('True')\n",
    "\n",
    "if 3<5:\n",
    "    print('3<5')\n",
    "else:\n",
    "    print('False')"
   ]
  },
  {
   "cell_type": "code",
   "execution_count": 6,
   "id": "745b2d70-a782-4431-9f2b-9843c065bed2",
   "metadata": {},
   "outputs": [
    {
     "name": "stdout",
     "output_type": "stream",
     "text": [
      "Comment\n"
     ]
    }
   ],
   "source": [
    "#print comment\n",
    "print('Comment')"
   ]
  },
  {
   "cell_type": "code",
   "execution_count": 7,
   "id": "4af1667e-a322-4126-a4f3-771d03eb34d0",
   "metadata": {},
   "outputs": [
    {
     "name": "stdout",
     "output_type": "stream",
     "text": [
      "3 5\n"
     ]
    }
   ],
   "source": [
    "x,y = 3,5\n",
    "print(x,y)"
   ]
  },
  {
   "cell_type": "code",
   "execution_count": 8,
   "id": "19e514e5-d633-4d69-9fc3-8c9dc98afc41",
   "metadata": {},
   "outputs": [
    {
     "name": "stdout",
     "output_type": "stream",
     "text": [
      "2\n"
     ]
    }
   ],
   "source": [
    "x=3\n",
    "x=2\n",
    "print(x)"
   ]
  },
  {
   "cell_type": "code",
   "execution_count": 10,
   "id": "e451618f-98e4-4720-a3e8-f37c9f0964aa",
   "metadata": {},
   "outputs": [
    {
     "name": "stdout",
     "output_type": "stream",
     "text": [
      "3 3 3.0\n"
     ]
    }
   ],
   "source": [
    "x = str(3)\n",
    "y = int(3)\n",
    "z = float(3)\n",
    "print(x,y,z)"
   ]
  },
  {
   "cell_type": "code",
   "execution_count": 11,
   "id": "a1b927cb-53bf-44ac-83f5-67adf7138737",
   "metadata": {},
   "outputs": [
    {
     "data": {
      "text/plain": [
       "'3'"
      ]
     },
     "execution_count": 11,
     "metadata": {},
     "output_type": "execute_result"
    }
   ],
   "source": [
    "x"
   ]
  },
  {
   "cell_type": "code",
   "execution_count": 14,
   "id": "cb182bc0-6d96-45e2-a57d-0b0a3b02422b",
   "metadata": {},
   "outputs": [
    {
     "data": {
      "text/plain": [
       "str"
      ]
     },
     "execution_count": 14,
     "metadata": {},
     "output_type": "execute_result"
    }
   ],
   "source": [
    "type(x)"
   ]
  },
  {
   "cell_type": "code",
   "execution_count": 16,
   "id": "abdec618-6ec4-492c-b939-55b0a89ca67e",
   "metadata": {},
   "outputs": [],
   "source": [
    "fruits = ['apple','banana']"
   ]
  },
  {
   "cell_type": "code",
   "execution_count": 17,
   "id": "b3c88e71-ab93-4c0e-b33e-d067bffec503",
   "metadata": {},
   "outputs": [
    {
     "data": {
      "text/plain": [
       "['apple', 'banana']"
      ]
     },
     "execution_count": 17,
     "metadata": {},
     "output_type": "execute_result"
    }
   ],
   "source": [
    "fruits"
   ]
  },
  {
   "cell_type": "code",
   "execution_count": 18,
   "id": "44cfbb4e-c9fb-4fb7-9560-6d02f522999d",
   "metadata": {},
   "outputs": [
    {
     "data": {
      "text/plain": [
       "list"
      ]
     },
     "execution_count": 18,
     "metadata": {},
     "output_type": "execute_result"
    }
   ],
   "source": [
    "type(fruits)"
   ]
  },
  {
   "cell_type": "code",
   "execution_count": 25,
   "id": "a80a12d3-2984-417e-88e6-deaf560d8b76",
   "metadata": {},
   "outputs": [
    {
     "name": "stdout",
     "output_type": "stream",
     "text": [
      "variable x = 3a+b\n"
     ]
    }
   ],
   "source": [
    "x = \"3a+b\"\n",
    "def myfunction():\n",
    "    print('variable x = '+ x)\n",
    "\n",
    "myfunction()"
   ]
  },
  {
   "cell_type": "code",
   "execution_count": 28,
   "id": "4ee9f237-6e9c-4204-a57b-bafb3fb6f570",
   "metadata": {},
   "outputs": [
    {
     "name": "stdout",
     "output_type": "stream",
     "text": [
      "5\n"
     ]
    }
   ],
   "source": [
    "def myf():\n",
    "    a=3\n",
    "    b=2\n",
    "    print(a+b)\n",
    "\n",
    "myf()"
   ]
  },
  {
   "cell_type": "code",
   "execution_count": 29,
   "id": "f09e22b0-d999-4bdc-a864-dde5e69136cf",
   "metadata": {},
   "outputs": [
    {
     "name": "stdout",
     "output_type": "stream",
     "text": [
      "frozenset({'apple', 'cherry', 'banana'})\n"
     ]
    }
   ],
   "source": [
    "x = frozenset({\"apple\", \"banana\", \"cherry\"})\n",
    "print(x)"
   ]
  },
  {
   "cell_type": "code",
   "execution_count": 32,
   "id": "f9b19d96-e6ed-46bd-a16f-d5dfb1763cb6",
   "metadata": {},
   "outputs": [
    {
     "data": {
      "text/plain": [
       "{'Name': 'Mary', 'Age': 23}"
      ]
     },
     "execution_count": 32,
     "metadata": {},
     "output_type": "execute_result"
    }
   ],
   "source": [
    "dict(Name=\"Mary\", Age=23)"
   ]
  },
  {
   "cell_type": "code",
   "execution_count": 44,
   "id": "4f997c0f-42b1-4654-b7d8-e2d7d4a130a8",
   "metadata": {},
   "outputs": [
    {
     "data": {
      "text/plain": [
       "'Mary, IL'"
      ]
     },
     "execution_count": 44,
     "metadata": {},
     "output_type": "execute_result"
    }
   ],
   "source": [
    "a = \"\"\"Mary, IL\"\"\"\n",
    "a"
   ]
  },
  {
   "cell_type": "markdown",
   "id": "3aaf83fa-93a1-415a-8467-dd197377536c",
   "metadata": {},
   "source": [
    "#### Strings are Arrays"
   ]
  },
  {
   "cell_type": "code",
   "execution_count": null,
   "id": "5f28d2f3-7a28-4d47-bb63-67256b598194",
   "metadata": {},
   "outputs": [],
   "source": []
  }
 ],
 "metadata": {
  "kernelspec": {
   "display_name": "Python 3 (ipykernel)",
   "language": "python",
   "name": "python3"
  },
  "language_info": {
   "codemirror_mode": {
    "name": "ipython",
    "version": 3
   },
   "file_extension": ".py",
   "mimetype": "text/x-python",
   "name": "python",
   "nbconvert_exporter": "python",
   "pygments_lexer": "ipython3",
   "version": "3.11.7"
  }
 },
 "nbformat": 4,
 "nbformat_minor": 5
}
